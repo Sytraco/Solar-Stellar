{
 "cells": [
  {
   "cell_type": "markdown",
   "metadata": {},
   "source": [
    "# Projet Expérimental - Sphère de fluide autogravitante"
   ]
  },
  {
   "cell_type": "markdown",
   "metadata": {},
   "source": [
    "L'objectif de cette étude est de modéliser une sphère de fluide autogravitante composée d'hydrogène la plus réaliste possible à partir de nos connaissances actuelles, telle qu'une étoile comme le soleil. Dans un premier temps, une première approximation peut-être faite sur sa capacité à rayonner la chaleur alors négligeable entre son centre et sa surface, malgré l'extrême variation de température. De plus, le gaz peut-être considéré comme étant parfait dans un premier temps."
   ]
  },
  {
   "cell_type": "markdown",
   "metadata": {},
   "source": [
    "## 1/    Équation d'état\n",
    "Pour commencer, il est nécessaire de dresser l'équation d'état du système ici considéré par un gaz parfait en transformation adiabatique vérifiant :\n",
    "$$PV = nRT = NkT$$\n",
    "ainsi que la loi de Laplace :\n",
    "$$PV^\\gamma = \\text{constante},$$\n",
    "\n",
    "où le volume permet de faire apparaître la densité $\\rho$\n",
    "$$V = \\frac{m}{\\rho}.$$\n",
    "\n",
    "Le soleil étant un fluide polytropique, il est nécéssaire d'établir la relation entre la pression et la densité de la sphère en fonction de son rayon $r$. La loi de Laplace vérifie alors l'égalité entre le centre de l'énergie de l'étoile et toute sa définition dans l'intervalle $r \\in [0, R]$ avec $R$ le rayon total de la sphère,\n",
    "$$P\\left(\\frac{m}{\\rho}\\right)^\\gamma = P_c\\left(\\frac{m}{\\rho_c}\\right)^\\gamma,$$\n",
    "et ainsi\n",
    "$$\\frac{P}{P_c} = \\left(\\frac{\\rho}{\\rho_c}\\right)^\\gamma.$$\n",
    "\n",
    "L'équation d'état d'un fluide polytropique est alors retrouvée :\n",
    "$$P = \\kappa \\rho^\\gamma = P_c \\left(\\frac{\\rho}{\\rho_c}\\right)^\\gamma,$$\n",
    "avec\n",
    "$$\\kappa = \\frac{P_c}{{\\rho_c}^\\gamma}.$$"
   ]
  },
  {
   "cell_type": "markdown",
   "metadata": {},
   "source": [
    "## 2/ Relation entre la densité et la température\n",
    "\n",
    "Comme pour l'équation d'état, en établissant le rapport de l'équation de gaz parfaits à son expression au centre de la sphère :\n",
    "$$\\frac{P\\frac{m}{\\rho}}{P_c\\frac{m}{\\rho_c}} = \\frac{NkT}{NkT_c},$$\n",
    "cela conduit à :\n",
    "$$\\frac{P}{P_c} \\frac{\\rho_c}{\\rho} = \\frac{T}{T_c}.$$\n",
    "\n",
    "D'après l'équation d'état, la relation entre la masse volumique et la température s'écrit alors\n",
    "\n",
    "$$\n",
    "    T = T_c\\left(\\frac{\\rho}{\\rho_c}\\right)^{\\gamma - 1}.\n",
    "$$"
   ]
  },
  {
   "cell_type": "markdown",
   "metadata": {},
   "source": [
    "## 3/ Connaissances\n",
    "\n",
    "L'accélération gravitationnelle (pesanteur) déduite du potentiel gravitationnel $\\phi$ s'écrit :\n",
    "$$\\vec{g} = -\\overrightarrow{\\nabla}\\phi.$$\n",
    "\n",
    "Où l'équation de Poisson affirme que :\n",
    "$$\\Delta \\phi = -4\\pi\\rho G,$$\n",
    "\n",
    "et donc \n",
    "$$\\text{div}(\\vec{g}) = \\Delta \\phi.$$"
   ]
  },
  {
   "cell_type": "markdown",
   "metadata": {},
   "source": [
    "## 4/ Équation de Lane-Emden\n",
    "\n",
    "L'équation de l'équilibre hydrostatique est donnée par :\n",
    "$$\\overrightarrow{\\nabla}P = \\rho \\vec{g}.$$\n",
    "\n",
    "La pression étant une fonction de la masse volumique, le gradient de pression peut s'écrire :\n",
    "$$\\overrightarrow{\\nabla}P = \\frac{dP}{d\\rho} \\overrightarrow{\\nabla} \\rho.$$\n",
    "\n",
    "À l'aide de l'équilibre hydrostatique il est ainsi possible d'exprimer la pesanteur en fonction de la densité :\n",
    "$$\\vec{g} = \\frac{1}{\\rho}\\frac{dP}{d\\rho} \\overrightarrow{\\nabla} \\rho.$$\n",
    "\n",
    "L'objectif de cette démarche est de conduire à une équation permettant d'exprimer la densité de la sphère autogravitante. D'après l'équation de Poisson définie précédemment, cela donne:\n",
    "$$\\text{div}(\\vec{g}) = \\overrightarrow{\\nabla}\\cdot\\left(\\frac{1}{\\rho}\\frac{dP}{d\\rho} \\overrightarrow{\\nabla} \\rho\\right) = \\frac{1}{\\rho}\\frac{dP}{d\\rho}\\Delta\\rho + \\overrightarrow{\\nabla}\\rho\\cdot\\overrightarrow{\\nabla}\\left(\\frac{1}{\\rho}\\frac{dP}{d\\rho}\\right) = -4\\pi\\rho G$$\n",
    "\n",
    "Conduisant alors à\n",
    "$$\\Delta\\rho + \\overrightarrow{\\nabla}\\rho\\cdot\\overrightarrow{\\nabla}\\left(\\frac{1}{\\rho}\\frac{dP}{d\\rho}\\right)\\frac{1}{\\frac{1}{\\rho}\\frac{dP}{d\\rho}} = \\frac{-4\\pi G\\rho}{\\frac{1}{\\rho}\\frac{dP}{d\\rho}}.$$\n",
    "\n",
    "Or d'après l'équation d'état polytropique :\n",
    "$$\\frac{1}{\\rho}\\frac{dP}{d\\rho} \\propto \\rho^{\\gamma - 2}.$$\n",
    "\n",
    "Cela conduit alors à l'équation de Lane-Emden généralisée :\n",
    "$$\\frac{\\Delta\\rho}{\\rho} + (\\gamma -2)\\left(\\frac{\\overrightarrow{\\nabla}\\rho}{\\rho}\\right)^2 + \\frac{4\\pi G\\rho}{\\frac{1}{\\rho}\\frac{dP}{d\\rho}} = 0.$$\n",
    "\n",
    "En admettant que la masse volumique peut s'écrire en fonction du rayon : $\\rho(r)$\n",
    "$$\\rho = \\rho_c\\theta^n \\qquad \\Longrightarrow \\qquad \\theta^n = \\frac{\\rho}{\\rho_c},$$\n",
    "\n",
    "un changement de variable pour obtenir la longueur d'échelle est obtenu par :\n",
    "$$\\xi = r\\sqrt{\\frac{4\\pi G {\\rho_c}^2}{(n+1)P_c}}.$$\n",
    "\n",
    "Permettant de transformer l'équation différentielle en une forme plus élégante :\n",
    "$$\\frac{1}{\\xi^2}\\frac{d}{d\\xi}\\left(\\xi^2\\frac{d\\theta}{d\\xi}\\right) + \\theta^n = \\frac{d^2\\theta}{d\\xi^2} + \\frac{2}{\\xi}\\frac{d\\theta}{d\\xi} + \\theta^n = 0$$"
   ]
  },
  {
   "cell_type": "markdown",
   "metadata": {},
   "source": [
    "## 5/ Résolution numérique de l'équation\n",
    "\n",
    "*Afin de résoudre cette équation aux dérivées partielle d'ordre 2 non linéaire, la méthode de Runge-Kutta d'ordre 4 est choisie pour sa précision d'estimation.*\n",
    "\n",
    "\n",
    "### Décomposition de l'équation\n",
    "\n",
    "Pour cela, un changement de variable est effectué sur une dérivée d'ordre 1 :\n",
    "$$\\frac{d\\theta}{d\\xi} = \\omega(\\xi)$$\n",
    "\n",
    "et l'équation de Lane-Emden peut alors s'écrire en une nouvelle équation d'ordre 1 :\n",
    "$$\\frac{d\\omega}{d\\xi} = -\\frac{2}{\\xi}\\omega(\\xi) - \\theta^n.$$\n",
    "\n",
    "Un système de deux équations d'ordre 1 selon $\\xi$ peut alors être résolu pour $\\theta$ et $\\omega$\n",
    "$$\n",
    "\\frac{d}{d\\xi}\n",
    "\\begin{cases}\n",
    "    \\theta = \\omega(\\xi)\\\\\n",
    "    \\omega = -\\frac{2}{\\xi}\\omega(\\xi) - \\theta^n.\n",
    "\\end{cases}\n",
    "$$\n",
    "\n",
    "\n",
    "\n",
    "### Conditions initiales\n",
    "\n",
    "Afin de démarrer l'algorithme, les conditions initiales de l'équation sont données pour \n",
    "$$\n",
    "\\begin{cases}\n",
    "    \\theta(\\xi=0) & = \\;\\theta(0) \\; = \\;1\\\\\n",
    "    d_\\xi \\theta(\\xi=0)&  = \\;\\omega(0) \\; = \\;0.\n",
    "\\end{cases}\n",
    "$$\n"
   ]
  },
  {
   "cell_type": "code",
   "execution_count": null,
   "metadata": {
    "vscode": {
     "languageId": "plaintext"
    }
   },
   "outputs": [],
   "source": []
  },
  {
   "cell_type": "code",
   "execution_count": null,
   "metadata": {
    "vscode": {
     "languageId": "plaintext"
    }
   },
   "outputs": [],
   "source": []
  }
 ],
 "metadata": {
  "language_info": {
   "name": "python"
  },
  "orig_nbformat": 4
 },
 "nbformat": 4,
 "nbformat_minor": 2
}
