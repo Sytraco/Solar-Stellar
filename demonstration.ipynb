{
 "cells": [
  {
   "cell_type": "markdown",
   "metadata": {},
   "source": [
    "# Projet Expérimental - Sphère de fluide autogravitante"
   ]
  },
  {
   "cell_type": "markdown",
   "metadata": {},
   "source": [
    "## Connaissances\n",
    "\n",
    "L'accélération gravitationnelle (pesanteur) déduite du potentiel gravitationnel $\\phi$ s'écrit :\n",
    "$$\\vec{g} = -\\overrightarrow{\\nabla}\\phi.$$\n",
    "\n",
    "Où l'équation de Poisson affirme que :\n",
    "$$\\Delta \\phi = -4\\pi\\rho G,$$\n",
    "\n",
    "et donc \n",
    "$$\\text{div}(\\vec{g}) = \\Delta \\phi.$$"
   ]
  },
  {
   "cell_type": "markdown",
   "metadata": {},
   "source": [
    "## Équation de Lane-Emden\n",
    "\n",
    "L'équation de l'équilibre hydrostatique est donnée par :\n",
    "$$\\overrightarrow{\\nabla}P = \\rho \\vec{g}.$$\n",
    "\n",
    "La pression étant une fonction de la masse volumique, le gradient de pression peut s'écrire :\n",
    "$$\\overrightarrow{\\nabla}P = \\frac{dP}{d\\rho} \\overrightarrow{\\nabla} \\rho.$$\n",
    "\n",
    "À l'aide de l'équilibre hydrostatique il est ainsi possible d'exprimer la pesanteur en fonction de la densité :\n",
    "$$\\vec{g} = \\frac{1}{\\rho}\\frac{dP}{d\\rho} \\overrightarrow{\\nabla} \\rho.$$\n",
    "\n",
    "L'objectif de cette démarche est de conduire à une équation permettant d'exprimer la densité de la sphère autogravitante. D'après l'équation de Poisson définie précédemment, cela donne:\n",
    "$$\\text{div}(\\vec{g}) = \\overrightarrow{\\nabla}\\cdot\\left(\\frac{1}{\\rho}\\frac{dP}{d\\rho} \\overrightarrow{\\nabla} \\rho\\right) = \\frac{1}{\\rho}\\frac{dP}{d\\rho}\\Delta\\rho + \\overrightarrow{\\nabla}\\rho\\cdot\\overrightarrow{\\nabla}\\left(\\frac{1}{\\rho}\\frac{dP}{d\\rho}\\right) = -4\\pi\\rho G$$\n",
    "\n",
    "Conduisant alors à\n",
    "$$\\Delta\\rho + \\overrightarrow{\\nabla}\\rho\\cdot\\overrightarrow{\\nabla}\\left(\\frac{1}{\\rho}\\frac{dP}{d\\rho}\\right)\\frac{1}{\\frac{1}{\\rho}\\frac{dP}{d\\rho}} = \\frac{-4\\pi G\\rho}{\\frac{1}{\\rho}\\frac{dP}{d\\rho}}.$$\n",
    "\n",
    "Or d'après l'équation d'état polytropique :\n",
    "$$\\frac{1}{\\rho}\\frac{dP}{d\\rho} \\propto \\rho^{\\gamma - 2}.$$\n",
    "\n",
    "Cela conduit alors à l'équation de Lane-Emden généralisée :\n",
    "$$\\frac{\\Delta\\rho}{\\rho} + (\\gamma -2)\\left(\\frac{\\overrightarrow{\\nabla}\\rho}{\\rho}\\right)^2 + \\frac{4\\pi G\\rho}{\\frac{1}{\\rho}\\frac{dP}{d\\rho}} = 0.$$\n",
    "\n",
    "En admettant que la masse volumique peut s'écrire en fonction du rayon : $\\rho(r)$\n",
    "$$\\rho = \\rho_c\\theta^n \\qquad \\Longrightarrow \\qquad \\theta^n = \\frac{\\rho}{\\rho_c},$$\n",
    "\n",
    "un changement de variable pour obtenir la longueur d'échelle est obtenu par :\n",
    "$$\\xi = r\\sqrt{\\frac{4\\pi G {\\rho_c}^2}{(n+1)P_c}}.$$\n",
    "\n",
    "Permettant de transformer l'équation différentielle en une forme plus élégante :\n",
    "$$\\frac{1}{\\xi^2}\\frac{d}{d\\xi}\\left(\\xi^2\\frac{d\\theta}{d\\xi}\\right) + \\theta^n = \\frac{d^2\\theta}{d\\xi^2} + \\frac{2}{\\xi}\\frac{d\\theta}{d\\xi} + \\theta^n = 0$$"
   ]
  },
  {
   "cell_type": "markdown",
   "metadata": {},
   "source": [
    "## Résolution numérique de l'équation\n",
    "\n",
    "Par changement de variable,\n",
    "$$\n",
    "\\frac{d}{d\\xi}\n",
    "\\begin{cases}\n",
    "    \\theta = \\omega(\\xi)\\\\\n",
    "    \\omega = -\\frac{2}{\\xi}\\omega(\\xi) - \\theta^n\n",
    "\\end{cases}\n",
    "$$"
   ]
  },
  {
   "cell_type": "markdown",
   "metadata": {},
   "source": []
  }
 ],
 "metadata": {
  "language_info": {
   "name": "python"
  },
  "orig_nbformat": 4
 },
 "nbformat": 4,
 "nbformat_minor": 2
}
